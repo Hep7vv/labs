{
  "cells": [
    {
      "cell_type": "markdown",
      "metadata": {
        "vscode": {
          "languageId": "bat"
        },
        "id": "yGNPBTtgG2hy"
      },
      "source": [
        "# Hedonic Pricing\n",
        "\n",
        "We often try to predict the price of an asset from its observable characteristics. This is generally called **hedonic pricing**: How do the unit's characteristics determine its market price?\n",
        "\n",
        "In the lab folder, there are three options: housing prices in pierce_county_house_sales.csv, car prices in cars_hw.csv, and airbnb rental prices in airbnb_hw.csv. If you know of another suitable dataset, please feel free to use that one.\n",
        "\n",
        "1. Clean the data and perform some EDA and visualization to get to know the data set.\n",
        "2. Transform your variables --- particularly categorical ones --- for use in your regression analysis.\n",
        "3. Implement an ~80/~20 train-test split. Put the test data aside.\n",
        "4. Build some simple linear models that include no transformations or interactions. Fit them, and determine their RMSE and $R^2$ on the both the training and test sets. Which of your models does the best?\n",
        "5. Include transformations and interactions, and build a more complex model that reflects your ideas about how the features of the asset determine its value. Determine its RMSE and $R^2$ on the training and test sets. How does the more complex model your build compare to the simpler ones?\n",
        "6. Summarize your results from 1 to 5. Have you learned anything about overfitting and underfitting, or model selection?\n"
      ]
    },
    {
      "cell_type": "code",
      "source": [
        "import numpy as np\n",
        "import matplotlib.pyplot as plt\n",
        "import pandas as pd\n",
        "import seaborn as sns\n",
        "\n",
        "df = pd.read_csv('./pierce_county_house_sales.csv')\n",
        "df.head()"
      ],
      "metadata": {
        "id": "t1RVUiNswfVw"
      },
      "execution_count": null,
      "outputs": []
    },
    {
      "cell_type": "code",
      "source": [
        "df_sorted = df.sort_values('house_square_feet', ascending=True)\n",
        "\n",
        "df_sorted"
      ],
      "metadata": {
        "id": "hNwJQuUZwgwe"
      },
      "execution_count": null,
      "outputs": []
    },
    {
      "cell_type": "code",
      "source": [
        "df = df.drop(['attic_finished_square_feet', 'basement_square_feet', 'attached_garage_square_feet', 'detached_garage_square_feet', 'view_quality', 'waterfront_type', 'utility_sewer', 'roof_cover'], axis=1)"
      ],
      "metadata": {
        "id": "AXMU10MOwiVy"
      },
      "execution_count": null,
      "outputs": []
    },
    {
      "cell_type": "code",
      "source": [
        "df = df[df['house_square_feet'] != 1]"
      ],
      "metadata": {
        "id": "QfpPNfMRwmXr"
      },
      "execution_count": null,
      "outputs": []
    },
    {
      "cell_type": "code",
      "source": [
        "df.loc[:,['sale_price','exterior'] ].groupby('exterior').describe()"
      ],
      "metadata": {
        "id": "LMzb37sQwnse"
      },
      "execution_count": null,
      "outputs": []
    },
    {
      "cell_type": "code",
      "source": [
        "df.loc[:,['sale_price','interior'] ].groupby('interior').describe()"
      ],
      "metadata": {
        "id": "lYKDyjNFwp7U"
      },
      "execution_count": null,
      "outputs": []
    },
    {
      "cell_type": "markdown",
      "source": [
        "based on this analysis I can drop several cases that dont use a typical exterior. Any house with less than 40 cases is unlikely to be useful for analysis."
      ],
      "metadata": {
        "id": "RYWaJ2nQwzHS"
      }
    },
    {
      "cell_type": "code",
      "source": [
        "exterior_to_drop = [\"Cedar A-Frame\", \"Cedar Finished Cabin\", \"Cedar Unfinished Cabin\", \"Frame Hardboard\", \"Frame Rustic Log\", \"Log\", \"Pine A-Frame\", \"Pine Finished Cabin\", \"Pine Unfinished Cabin\", \"Unfinished Cottage\"]\n",
        "df = df[~df.exterior.isin(exterior_to_drop)]"
      ],
      "metadata": {
        "id": "2Ja6VG-KwvRr"
      },
      "execution_count": null,
      "outputs": []
    },
    {
      "cell_type": "code",
      "source": [
        "df.loc[:,['sale_price','exterior'] ].groupby('exterior').describe()"
      ],
      "metadata": {
        "id": "DhhSzq7uxSwu"
      },
      "execution_count": null,
      "outputs": []
    },
    {
      "cell_type": "code",
      "source": [
        "sns.kdeplot(x=df['sale_price'], hue=df['exterior'])\n",
        "plt.show()\n",
        "\n",
        "sns.kdeplot(x=np.log(df['sale_price']), hue=df['exterior'])\n",
        "plt.show()"
      ],
      "metadata": {
        "id": "uAievMW0xU9_"
      },
      "execution_count": null,
      "outputs": []
    },
    {
      "cell_type": "code",
      "source": [
        "dropframe = df[~df.exterior.isin([\"Frame Siding\", \"Frame Vinyl\"])]"
      ],
      "metadata": {
        "id": "a5y-NbWTxXK-"
      },
      "execution_count": null,
      "outputs": []
    },
    {
      "cell_type": "code",
      "source": [
        "sns.kdeplot(x=dropframe['sale_price'], hue=dropframe['exterior'])\n",
        "plt.show()\n",
        "\n",
        "sns.kdeplot(x=np.log(dropframe['sale_price']), hue=dropframe['exterior'])\n",
        "plt.show()"
      ],
      "metadata": {
        "id": "K2tBytwRxYzr"
      },
      "execution_count": null,
      "outputs": []
    },
    {
      "cell_type": "code",
      "source": [
        "df.plot.scatter(x = 'house_square_feet',y = 'sale_price')"
      ],
      "metadata": {
        "id": "fPTkBHzHxbmw"
      },
      "execution_count": null,
      "outputs": []
    }
  ],
  "metadata": {
    "kernelspec": {
      "display_name": "base",
      "language": "python",
      "name": "python3"
    },
    "language_info": {
      "codemirror_mode": {
        "name": "ipython",
        "version": 3
      },
      "file_extension": ".py",
      "mimetype": "text/x-python",
      "name": "python",
      "nbconvert_exporter": "python",
      "pygments_lexer": "ipython3",
      "version": "3.12.2"
    },
    "colab": {
      "provenance": []
    }
  },
  "nbformat": 4,
  "nbformat_minor": 0
}